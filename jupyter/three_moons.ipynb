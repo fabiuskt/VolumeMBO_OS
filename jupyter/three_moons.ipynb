{
 "cells": [
  {
   "cell_type": "code",
   "execution_count": null,
   "id": "0",
   "metadata": {},
   "outputs": [],
   "source": [
    "%load_ext autoreload\n",
    "%autoreload 2"
   ]
  },
  {
   "cell_type": "code",
   "execution_count": null,
   "id": "1",
   "metadata": {},
   "outputs": [],
   "source": [
    "import numpy as np\n",
    "import matplotlib.pyplot as plt\n",
    "import matplotlib.gridspec as gridspec\n",
    "from matplotlib.lines import Line2D\n",
    "\n",
    "import volumembo"
   ]
  },
  {
   "cell_type": "markdown",
   "id": "2",
   "metadata": {},
   "source": [
    "# Three moons dataset"
   ]
  },
  {
   "cell_type": "markdown",
   "id": "3",
   "metadata": {},
   "source": [
    "### Load/create the dataset"
   ]
  },
  {
   "cell_type": "code",
   "execution_count": null,
   "id": "4",
   "metadata": {},
   "outputs": [],
   "source": [
    "# Load three moons dataset\n",
    "data, labels = volumembo.datasets.load_dataset(\"3_moons\", N=100, noise=0.1)\n",
    "print(\"Data:\\t\", data.shape)\n",
    "print(\"Labels:\\t\", labels.shape)"
   ]
  },
  {
   "cell_type": "markdown",
   "id": "5",
   "metadata": {},
   "source": [
    "### Construct a VolumeMBO object"
   ]
  },
  {
   "cell_type": "code",
   "execution_count": null,
   "id": "6",
   "metadata": {},
   "outputs": [],
   "source": [
    "MBO = volumembo.MBO(\n",
    "    data=data,\n",
    "    labels=labels,\n",
    "    number_of_neighbors=6,\n",
    "    diffusion_time=1.0,\n",
    "    number_of_known_labels=5,\n",
    "    # lower_limit=[20,20,20],\n",
    "    # upper_limit=[40,40,40],\n",
    "    # temperature=1,\n",
    "    initial_clustering_method=\"random\",\n",
    "    threshold_method=\"fit_median_cpp\",\n",
    "    diffusion_method=\"A_3\",\n",
    ")"
   ]
  },
  {
   "cell_type": "code",
   "execution_count": null,
   "id": "7",
   "metadata": {},
   "outputs": [],
   "source": [
    "MBO.print_parameters()"
   ]
  },
  {
   "cell_type": "code",
   "execution_count": null,
   "id": "8",
   "metadata": {},
   "outputs": [],
   "source": [
    "### colors\n",
    "cmap = \"Greys\"\n",
    "\n",
    "weight_matrix = MBO.weight_matrix.todense()\n",
    "\n",
    "print(\n",
    "    \"W ∈ [{}, {}] | mean: {}\".format(\n",
    "        np.min(weight_matrix), np.max(weight_matrix), np.mean(weight_matrix)\n",
    "    )\n",
    ")\n",
    "#############################################################################################\n",
    "fig = plt.figure(figsize=(3.5, 3.5))\n",
    "gs = gridspec.GridSpec(nrows=1, ncols=1)\n",
    "#############################################################################################\n",
    "ax0 = fig.add_subplot(gs[0, 0])\n",
    "ax0.tick_params(\n",
    "    direction=\"in\", which=\"both\", bottom=True, top=True, left=True, right=True\n",
    ")\n",
    "ax0.minorticks_on()\n",
    "ax0.set_aspect(\"equal\")\n",
    "ax0.set_title(r\"Weight matrix\")\n",
    "\n",
    "ax0.imshow(weight_matrix, cmap=cmap, vmin=0, vmax=1)\n",
    "\n",
    "#############################################################################################\n",
    "plt.subplots_adjust(left=0.05, right=0.95, top=0.98, bottom=0.115)\n",
    "# fig.savefig('./clustering0.pdf', transparent=True, dpi=600)\n",
    "# fig.savefig('/home/thomas/Documents/projects/VolumeMBO/tex/figures/weight_matrix.pdf', transparent=True, dpi=600)"
   ]
  },
  {
   "cell_type": "markdown",
   "id": "9",
   "metadata": {},
   "source": [
    "### Do a single MBO run and plot the result"
   ]
  },
  {
   "cell_type": "code",
   "execution_count": null,
   "id": "10",
   "metadata": {},
   "outputs": [],
   "source": [
    "MBO.make_fidelity_set()\n",
    "MBO.run_mbo(verbose=True)\n",
    "print(MBO.new_volume)"
   ]
  },
  {
   "cell_type": "code",
   "execution_count": null,
   "id": "11",
   "metadata": {},
   "outputs": [],
   "source": [
    "_, initial_labels, fidelity_set = MBO.get_initial_cluster()"
   ]
  },
  {
   "cell_type": "code",
   "execution_count": null,
   "id": "12",
   "metadata": {},
   "outputs": [],
   "source": [
    "### colors\n",
    "cmap = \"hot\"\n",
    "color_fidelity_set = \"lime\"\n",
    "\n",
    "\n",
    "label_colors = np.array([\"deepskyblue\", \"gold\", \"magenta\"])\n",
    "point_colors = label_colors[MBO.labels]\n",
    "point_colors_init = label_colors[initial_labels]\n",
    "point_colors_new = label_colors[MBO.new_labels]\n",
    "\n",
    "\n",
    "def plot_fidelity_set(ax):\n",
    "    ax.scatter(\n",
    "        MBO.data[fidelity_set, 0],\n",
    "        MBO.data[fidelity_set, 1],\n",
    "        ec=color_fidelity_set,\n",
    "        fc=\"none\",\n",
    "        s=10,\n",
    "        label=\"Fidelity Set\",\n",
    "    )\n",
    "\n",
    "\n",
    "#############################################################################################\n",
    "fig = plt.figure(figsize=(8, 1.75))\n",
    "gs = gridspec.GridSpec(nrows=1, ncols=3)\n",
    "#############################################################################################\n",
    "ax0 = fig.add_subplot(gs[0, 0])\n",
    "ax0.tick_params(\n",
    "    direction=\"in\", which=\"both\", bottom=True, top=True, left=True, right=True\n",
    ")\n",
    "ax0.minorticks_on()\n",
    "ax0.set_aspect(\"equal\")\n",
    "ax0.set_title(r\"Target configuration\")\n",
    "\n",
    "ax0.scatter(MBO.data[:, 0], MBO.data[:, 1], c=point_colors, edgecolor=\"k\")\n",
    "# Highlight fidelity set\n",
    "plot_fidelity_set(ax0)\n",
    "\n",
    "ax0.set_xlabel(r\"x\")\n",
    "ax0.set_ylabel(r\"y\")\n",
    "#############################################################################################\n",
    "ax1 = fig.add_subplot(gs[0, 1])\n",
    "ax1.tick_params(\n",
    "    direction=\"in\", which=\"both\", bottom=True, top=True, left=True, right=True\n",
    ")\n",
    "ax1.minorticks_on()\n",
    "ax1.set_aspect(\"equal\")\n",
    "ax1.set_title(r\"Initial configuration\")\n",
    "\n",
    "ax1.scatter(MBO.data[:, 0], MBO.data[:, 1], c=point_colors_init, edgecolor=\"k\")\n",
    "# Highlight fidelity set\n",
    "plot_fidelity_set(ax1)\n",
    "\n",
    "ax1.set_xlabel(r\"x\")\n",
    "#############################################################################################\n",
    "ax2 = fig.add_subplot(gs[0, 2])\n",
    "ax2.tick_params(\n",
    "    direction=\"in\", which=\"both\", bottom=True, top=True, left=True, right=True\n",
    ")\n",
    "ax2.minorticks_on()\n",
    "ax2.set_aspect(\"equal\")\n",
    "ax2.set_title(r\"Final configuration\")\n",
    "\n",
    "ax2.scatter(MBO.data[:, 0], MBO.data[:, 1], c=point_colors_new, edgecolor=\"k\")\n",
    "# Highlight fidelity set\n",
    "plot_fidelity_set(ax2)\n",
    "\n",
    "ax2.set_xlabel(r\"x\")\n",
    "#############################################################################################\n",
    "plt.subplots_adjust(left=0.075, right=0.95, top=0.98, bottom=0.115)\n",
    "# fig.savefig(\"./volumeMBO_spectral_random_init.pdf\", transparent=True, dpi=600)"
   ]
  },
  {
   "cell_type": "code",
   "execution_count": null,
   "id": "13",
   "metadata": {},
   "outputs": [],
   "source": []
  },
  {
   "cell_type": "markdown",
   "id": "14",
   "metadata": {},
   "source": [
    "### Do several iterations of MBO for the three methods: argmax, fit_median, fit_median_legacy, and print the execution time"
   ]
  },
  {
   "cell_type": "code",
   "execution_count": null,
   "id": "15",
   "metadata": {},
   "outputs": [],
   "source": [
    "iterations = 100"
   ]
  },
  {
   "cell_type": "code",
   "execution_count": null,
   "id": "16",
   "metadata": {},
   "outputs": [],
   "source": [
    "MBO.set_threshold_function(\"argmax\")\n",
    "MBO.run(iterations=iterations, save_results=False)"
   ]
  },
  {
   "cell_type": "code",
   "execution_count": null,
   "id": "17",
   "metadata": {},
   "outputs": [],
   "source": [
    "MBO.set_threshold_function(\"fit_median_cpp\")\n",
    "MBO.run(iterations=iterations, save_results=False)"
   ]
  },
  {
   "cell_type": "code",
   "execution_count": null,
   "id": "18",
   "metadata": {},
   "outputs": [],
   "source": [
    "MBO.set_threshold_function(\"fit_median\")\n",
    "MBO.run(iterations=iterations, save_results=False)"
   ]
  },
  {
   "cell_type": "code",
   "execution_count": null,
   "id": "19",
   "metadata": {},
   "outputs": [],
   "source": [
    "MBO.set_threshold_function(\"fit_median_legacy\")\n",
    "MBO.run(iterations=iterations, save_results=False)"
   ]
  },
  {
   "cell_type": "code",
   "execution_count": null,
   "id": "20",
   "metadata": {},
   "outputs": [],
   "source": []
  },
  {
   "cell_type": "markdown",
   "id": "21",
   "metadata": {},
   "source": [
    "# Visualize iterative method to find median m"
   ]
  },
  {
   "cell_type": "code",
   "execution_count": null,
   "id": "22",
   "metadata": {},
   "outputs": [],
   "source": [
    "from volumembo.median_fitter import VolumeMedianFitter\n",
    "from _volumembo import fit_median_cpp"
   ]
  },
  {
   "cell_type": "code",
   "execution_count": null,
   "id": "23",
   "metadata": {},
   "outputs": [],
   "source": [
    "MBO.make_fidelity_set()\n",
    "# fs = MBO.fidelity_set\n",
    "# chi = MBO.cluster_initialization_function(fs)\n",
    "# labels = MBO.labels\n",
    "chi, labels, fidelity_set = MBO.get_initial_cluster()\n",
    "u = MBO.diffuse(chi)\n",
    "upper = MBO.volume\n",
    "lower = MBO.volume\n",
    "print(\"χ: {}\".format(chi.shape))\n",
    "print(\"u: {} | (min, max) = ({}, {})\".format(u.shape, np.min(u), np.max(u)))\n",
    "print(np.min(np.sum(u, axis=1)))\n",
    "print(np.max(np.sum(u, axis=1)))\n",
    "print(\"upper limit: {}\".format(upper))\n",
    "print(\"lower limit: {}\".format(lower))"
   ]
  },
  {
   "cell_type": "code",
   "execution_count": null,
   "id": "24",
   "metadata": {},
   "outputs": [],
   "source": [
    "fitter = VolumeMedianFitter(u, lower, upper)\n",
    "labels_diffused, median_history = fitter.run(return_history=True)"
   ]
  },
  {
   "cell_type": "code",
   "execution_count": null,
   "id": "25",
   "metadata": {},
   "outputs": [],
   "source": [
    "test_labels = np.argmax(u - median_history[-1], axis=1)\n",
    "new_sizes = np.bincount(test_labels, minlength=3)\n",
    "print(new_sizes)\n",
    "np.all(labels_diffused == test_labels)"
   ]
  },
  {
   "cell_type": "code",
   "execution_count": null,
   "id": "26",
   "metadata": {},
   "outputs": [],
   "source": [
    "#############################################################################################\n",
    "fig = plt.figure(figsize=(14, 5))\n",
    "gs = gridspec.GridSpec(nrows=1, ncols=1)\n",
    "#############################################################################################\n",
    "ax0 = fig.add_subplot(gs[0, 0])\n",
    "ax0.tick_params(\n",
    "    direction=\"in\", which=\"both\", bottom=True, top=True, left=True, right=True\n",
    ")\n",
    "ax0.minorticks_on()\n",
    "\n",
    "simplex = volumembo.plot.SimplexPlotter(ax=ax0)\n",
    "simplex.plot_simplex_outline(lw=2)\n",
    "simplex.add_grid_lines()\n",
    "simplex.add_ticks(n=10, show_labels=True)\n",
    "simplex.set_axis_labels()\n",
    "simplex.plot_points(points=u, labels=labels_diffused, ec=\"k\", s=45)\n",
    "simplex.plot_median(point=median_history[-1], s=50)\n",
    "simplex.plot_trace(\n",
    "    median_history, color=\"lime\", linestyle=\":\", linewidth=1.5, zorder=10\n",
    ")\n",
    "\n",
    "# Custom legend entry: red line\n",
    "red_line = Line2D(\n",
    "    [], [], color=\"lime\", linestyle=\":\", linewidth=1.5, label=\"Trace of order statistic\"\n",
    ")\n",
    "\n",
    "# Add legend with the custom entry\n",
    "ax0.legend(handles=[red_line], loc=(0, 0.8))\n",
    "#############################################################################################\n",
    "plt.subplots_adjust(left=0.05, right=0.95, top=1.1, bottom=0.025)\n",
    "# fig.savefig(\"./clustering0.png\", transparent=False, dpi=300)"
   ]
  },
  {
   "cell_type": "code",
   "execution_count": null,
   "id": "27",
   "metadata": {},
   "outputs": [],
   "source": []
  },
  {
   "cell_type": "code",
   "execution_count": null,
   "id": "28",
   "metadata": {},
   "outputs": [],
   "source": [
    "from mpl_toolkits.mplot3d.art3d import Poly3DCollection\n",
    "\n",
    "# Triangle vertices of the 2-simplex\n",
    "A = [1, 0, 0]\n",
    "B = [0, 1, 0]\n",
    "C = [0, 0, 1]\n",
    "\n",
    "# Create figure and 3D axes\n",
    "fig = plt.figure()\n",
    "ax = fig.add_subplot(111, projection=\"3d\")\n",
    "\n",
    "# Plot the triangle (simplex plane)\n",
    "triangle = [A, B, C]\n",
    "ax.add_collection3d(\n",
    "    Poly3DCollection([triangle], facecolors=\"lightgray\", alpha=0.3, edgecolors=\"k\")\n",
    ")\n",
    "\n",
    "# Optional: plot some points on the simplex (barycentric coordinates)\n",
    "ax.scatter(u[:, 0], u[:, 1], u[:, 2], color=\"blue\", s=20)\n",
    "\n",
    "# Set limits and labels\n",
    "ax.set_xlim(0, 1)\n",
    "ax.set_ylim(0, 1)\n",
    "ax.set_zlim(0, 1)\n",
    "ax.set_xlabel(\"X\")\n",
    "ax.set_ylabel(\"Y\")\n",
    "ax.set_zlabel(\"Z\")\n",
    "ax.view_init(elev=20, azim=0)  # Adjust view angle\n",
    "\n",
    "plt.tight_layout()\n",
    "plt.show()"
   ]
  },
  {
   "cell_type": "code",
   "execution_count": null,
   "id": "29",
   "metadata": {},
   "outputs": [],
   "source": []
  },
  {
   "cell_type": "code",
   "execution_count": null,
   "id": "30",
   "metadata": {},
   "outputs": [],
   "source": []
  },
  {
   "cell_type": "code",
   "execution_count": null,
   "id": "31",
   "metadata": {},
   "outputs": [],
   "source": []
  }
 ],
 "metadata": {
  "kernelspec": {
   "display_name": "Python 3 (ipykernel)",
   "language": "python",
   "name": "python3"
  },
  "language_info": {
   "codemirror_mode": {
    "name": "ipython",
    "version": 3
   },
   "file_extension": ".py",
   "mimetype": "text/x-python",
   "name": "python",
   "nbconvert_exporter": "python",
   "pygments_lexer": "ipython3",
   "version": "3.13.2"
  }
 },
 "nbformat": 4,
 "nbformat_minor": 5
}
